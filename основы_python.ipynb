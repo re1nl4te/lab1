{
 "cells": [
  {
   "cell_type": "markdown",
   "metadata": {
    "id": "M-DGa20PaHnu"
   },
   "source": [
    "# Задача 1\n",
    "Написать функцию на вход которой подается строка, состоящая из латинских букв.\n",
    "Функция должна вернуть количество гласных букв (a, e, i, o, u) в этой строке. Написать тесты для кода"
   ]
  },
  {
   "cell_type": "code",
   "execution_count": 2,
   "metadata": {
    "id": "XvX8X_JJ6PCb"
   },
   "outputs": [
    {
     "name": "stdout",
     "output_type": "stream",
     "text": [
      "3\n",
      "2\n",
      "0\n"
     ]
    }
   ],
   "source": [
    "def number_of_vowels(list1,count = 0):\n",
    "    volves = ['a','e','i','o','u']\n",
    "    count = 0\n",
    "    for i in list1:\n",
    "        for j in volves:\n",
    "            if i == j:\n",
    "                count += 1\n",
    "    return count\n",
    "\n",
    "print(number_of_vowels(\"aaa\")) \n",
    "print(number_of_vowels(\"aicb\"))\n",
    "print(number_of_vowels(\"dcdk\"))"
   ]
  },
  {
   "cell_type": "markdown",
   "metadata": {
    "id": "t2ClV_Y0bbr6"
   },
   "source": [
    "# Задача 2\n",
    "Написать функцию, на вход которой подается строка. Функция должна вернуть true, если\n",
    "каждый символ в строке встречается только 1 раз, иначе должна вернуть false. Написать тесты для кода"
   ]
  },
  {
   "cell_type": "code",
   "execution_count": 1,
   "metadata": {
    "id": "FppbECao6VIz"
   },
   "outputs": [
    {
     "name": "stdout",
     "output_type": "stream",
     "text": [
      "True\n",
      "False\n",
      "False\n"
     ]
    }
   ],
   "source": [
    "def repetition_of_letters(list1):\n",
    "    len_list1 = len(list1)\n",
    "    for i in range(0,len_list1-1):\n",
    "        for j in range(i+1,len_list1):\n",
    "            if list1[i] == list1[j]:\n",
    "                return False\n",
    "    return True\n",
    "print(repetition_of_letters('abcde'))\n",
    "print(repetition_of_letters('abacd'))\n",
    "print(repetition_of_letters('abcdee'))"
   ]
  },
  {
   "cell_type": "markdown",
   "metadata": {
    "id": "udRiIK1cdt6E"
   },
   "source": [
    "# Задача 3\n",
    "Написать функцию, которая принимает положительное число и возвращает количество\n",
    "бит равных 1 в этом числе. Написать тесты для кода"
   ]
  },
  {
   "cell_type": "code",
   "execution_count": 8,
   "metadata": {
    "id": "6tkfDJRz6dp_"
   },
   "outputs": [
    {
     "name": "stdout",
     "output_type": "stream",
     "text": [
      "1\n",
      "2\n",
      "3\n",
      "0\n",
      "Ошибка! Число должно быть положительным.\n",
      "6\n",
      "9\n"
     ]
    }
   ],
   "source": [
    "#получить число\n",
    "#перевести в двоичный\n",
    "def number_translation(ten_bit_number):\n",
    "    if ten_bit_number < 0:\n",
    "        return('Ошибка! Число должно быть положительным.')\n",
    "    if type(ten_bit_number) == float:\n",
    "        int_ten_bit = int(ten_bit_number)\n",
    "        str_with_two_bit_number = str(bin(int_ten_bit))\n",
    "        float_ten_bit = ten_bit_number - int_ten_bit\n",
    "        n = 0 #счётчик точности\n",
    "        while float_ten_bit > 0:\n",
    "            n += 1\n",
    "            float_ten_bit = float_ten_bit*2\n",
    "            if int(float_ten_bit) == 1:\n",
    "                str_with_two_bit_number += '1'\n",
    "                float_ten_bit -= 1\n",
    "            elif int(float_ten_bit) == 0:\n",
    "                str_with_two_bit_number += '0'\n",
    "            if n == 10:#если точность будет 10 после точки, то дропаем\n",
    "                return(count_of_1(str_with_two_bit_number))\n",
    "    #перевести в строку\n",
    "    str_with_two_bit_number = str(bin(ten_bit_number))\n",
    "    return(count_of_1(str_with_two_bit_number))\n",
    "#посчитать кол-во 1\n",
    "def count_of_1(str_with_two_bit_number):\n",
    "    count = 0\n",
    "    for i in str_with_two_bit_number:\n",
    "        if i == '1':\n",
    "            count += 1\n",
    "    return count\n",
    "#вывод\n",
    "print(number_translation(2))\n",
    "print(number_translation(10))\n",
    "print(number_translation(19))\n",
    "print(number_translation(0))\n",
    "print(number_translation(-4))\n",
    "print(number_translation(0.1854))\n",
    "print(number_translation(154.14))"
   ]
  },
  {
   "cell_type": "markdown",
   "metadata": {
    "id": "26dDUz-Ae17N"
   },
   "source": [
    "# Задача 4\n",
    "Написать функцию, которая принимает положительное число. Функция должна вернуть то,\n",
    "сколько раз необходимо перемножать цифры числа или результат перемножения, чтобы\n",
    "получилось число состоящее из одной цифры.\n",
    "Например, для входного числа:\n",
    "· 39 функция должна вернуть 3, так как 3*9=27 => 2*7=14 => 1*4=4\n",
    "· 4 функция должна вернуть 0, так как число уже состоит из одной цифры\n",
    "· 999 функция должна вернуть 4, так как 9*9*9=729 => 7*2*9=126 => 1*2*6=12 =>\n",
    "1*2=2. Написать тесты для кода"
   ]
  },
  {
   "cell_type": "code",
   "execution_count": 18,
   "metadata": {
    "id": "BH1A_Mgi6i4G"
   },
   "outputs": [
    {
     "name": "stdout",
     "output_type": "stream",
     "text": [
      "0\n",
      "3\n",
      "4\n",
      "Ошибка! Число должно быть положительным.\n"
     ]
    }
   ],
   "source": [
    "def magic(n):\n",
    "    len_n = 0\n",
    "    count = 0\n",
    "    if n < 0:\n",
    "        return('Ошибка! Число должно быть положительным.')\n",
    "    while len_n != 1:\n",
    "        str_n = str(n)\n",
    "        len_n = len(str_n)\n",
    "        for i in range(0,len_n-1):\n",
    "            for j in range(i+1,len_n):\n",
    "                n = int(str_n[i])*int(str_n[j])\n",
    "                count +=1\n",
    "    return count\n",
    "    pass\n",
    "print(magic(2))\n",
    "print(magic(39))\n",
    "print(magic(999))\n",
    "print(magic(-4))"
   ]
  },
  {
   "cell_type": "markdown",
   "metadata": {
    "id": "0nS-kIa8g8vd"
   },
   "source": [
    "# Задача 5\n",
    "Написать функцию, которая принимает два целочисленных вектора одинаковой длины и\n",
    "возвращает среднеквадратическое отклонение двух векторов. Написать тесты для кода"
   ]
  },
  {
   "cell_type": "code",
   "execution_count": 1,
   "metadata": {
    "id": "8iphx4LM6xbx"
   },
   "outputs": [
    {
     "name": "stdout",
     "output_type": "stream",
     "text": [
      "0.5773502691896257\n",
      "Длины векторов должны быть одинаковыми\n",
      "1.0\n",
      "14.433756729740644\n"
     ]
    }
   ],
   "source": [
    "from math import sqrt\n",
    "\n",
    "def mse(pred, true):\n",
    "    if len(pred) != len(true): #длины\n",
    "        return(\"Длины векторов должны быть одинаковыми\")\n",
    "    sum_squared_diff = sum([(p - t) ** 2 for p, t in zip(pred, true)])\n",
    "    mse = sum_squared_diff / len(pred) #mse\n",
    "    return sqrt(mse)\n",
    "    pass\n",
    "print(mse([12,14,15],[13,14,15]))\n",
    "print(mse([12,14,15],[13,14,15,15]))\n",
    "print(mse([12,14,15],[13,15,16]))\n",
    "print(mse([-12,14,15],[13,14,15]))"
   ]
  },
  {
   "cell_type": "markdown",
   "metadata": {
    "id": "0nS-kIa8g8vd"
   },
   "source": [
    "# Задача 6\n",
    "\n",
    "Написать функцию, принимающая целое положительное число. Функция должна вернуть строку вида “(n1p1)(n2p2)…(nkpk)” представляющая разложение числа на простые множители (если pi == 1, то выводить только ni). Например, для числа 86240 функция должна вернуть “(2'**'5)(5)(7'**'2)(11)” . Написать тесты для кода"
   ]
  },
  {
   "cell_type": "code",
   "execution_count": 13,
   "metadata": {
    "id": "pFebmcZk94Jw"
   },
   "outputs": [
    {
     "name": "stdout",
     "output_type": "stream",
     "text": [
      "(2**5)(5)(7**2)(11)\n",
      "(11)\n",
      "(5**2)(7)(71)(383)\n",
      "Ошибка! Число должно быть целым.\n",
      "Ошибка! Число должно быть положительным.\n"
     ]
    }
   ],
   "source": [
    "def prime_factors(numb):\n",
    "    factors = []\n",
    "    i = 2\n",
    "    while i*i <= numb:\n",
    "        if numb % i == 0:\n",
    "            factors.append(i)\n",
    "            numb = numb//i\n",
    "        else:\n",
    "            i += 1\n",
    "    if numb > 1: #остаток од while \n",
    "        factors.append(numb)\n",
    "    return factors\n",
    "    \n",
    "def count_factors(numb):\n",
    "    if numb < 0:\n",
    "        return('Ошибка! Число должно быть положительным.')\n",
    "    type_numb = type(numb)\n",
    "    if type_numb != int:\n",
    "        return('Ошибка! Число должно быть целым.')\n",
    "    result = \"\"\n",
    "    factors = prime_factors(numb)\n",
    "    set_factors = set(factors)\n",
    "    set_factors = set()\n",
    "    for i in factors:\n",
    "        set_factors.add(i)\n",
    "    set_factors = sorted(set_factors)\n",
    "    for i in set_factors:\n",
    "        count = 0\n",
    "        for j in range(0,len(factors)):\n",
    "            if i == factors[j]:\n",
    "                count += 1\n",
    "        if count == 1:\n",
    "            result += f\"({i})\"\n",
    "        else:\n",
    "            result += f\"({i}**{count})\"\n",
    "    return result\n",
    "print(count_factors(86240))\n",
    "print(count_factors(11))\n",
    "print(count_factors(4758775))\n",
    "print(count_factors(15.5))\n",
    "print(count_factors(-5))"
   ]
  },
  {
   "cell_type": "markdown",
   "metadata": {
    "id": "ps2s0BudX7A2"
   },
   "source": [
    "# Задача 7\n",
    "Написать функцию, принимающая целое число n, задающее количество кубиков. Функция\n",
    "должна определить, можно ли из данного кол-ва кубиков построить пирамиду, то есть\n",
    "можно ли представить число n как 1^2+2^2+3^2+…+k^2. Если можно, то функция должна\n",
    "вернуть k, иначе строку “It is impossible”. Написать тесты для кода"
   ]
  },
  {
   "cell_type": "code",
   "execution_count": 22,
   "metadata": {
    "id": "3YPjEXxhX_YT"
   },
   "outputs": [
    {
     "name": "stdout",
     "output_type": "stream",
     "text": [
      "1\n",
      "4\n",
      "It is impossible\n",
      "Ошибка! Число должно быть целым.\n"
     ]
    }
   ],
   "source": [
    "import math\n",
    "def pyramid(number):\n",
    "    type_number = type(number)\n",
    "    if type_number != int:\n",
    "        return(\"Ошибка! Число должно быть целым.\")\n",
    "    k = int(math.sqrt(2 * number + 0.25) - 0.5)\n",
    "    if k * (k + 1) / 2 == number:\n",
    "        return k\n",
    "    else:\n",
    "        return(\"It is impossible\")\n",
    "    pass\n",
    "\n",
    "print(pyramid(1))\n",
    "print(pyramid(10))\n",
    "print(pyramid(47))\n",
    "print(pyramid(4.5))"
   ]
  },
  {
   "cell_type": "markdown",
   "metadata": {
    "id": "KeKgmIdAQMEJ"
   },
   "source": [
    "# Задача 8\n",
    "Функция принимает на вход положительное число и определяет является ли оно сбалансированным, т.е. сумма цифр до средних равна сумме цифр после. Средними в случае нечетного числа цифр считать одну цифру, в случае четного - две средних. Написать тесты для кода"
   ]
  },
  {
   "cell_type": "code",
   "execution_count": 70,
   "metadata": {
    "id": "gMAAqtqlQrZt"
   },
   "outputs": [
    {
     "name": "stdout",
     "output_type": "stream",
     "text": [
      "True\n",
      "True\n",
      "False\n",
      "False\n",
      "Ошибка! Число должно быть положительным.\n"
     ]
    }
   ],
   "source": [
    "def balance(numb):\n",
    "    if numb < 0:\n",
    "        return('Ошибка! Число должно быть положительным.')\n",
    "    first_half = 0\n",
    "    second_half = 0\n",
    "    str_number = str(numb)\n",
    "    if len(str_number) % 2 == 1:\n",
    "        for i in range(0,len(str_number)//2): \n",
    "            first_half += int(str_number[i])\n",
    "        for j in range(len(str_number)//2+1,len(str_number)): \n",
    "            second_half += int(str_number[j])\n",
    "    else:\n",
    "        for i in range(0,len(str_number)//2): \n",
    "            first_half += int(str_number[i])\n",
    "        for j in range(len(str_number)//2,len(str_number)): \n",
    "            second_half += int(str_number[j])\n",
    "    if first_half == second_half:\n",
    "        return True\n",
    "    elif first_half != second_half:\n",
    "        return False\n",
    "print(balance(1235123))\n",
    "print(balance(12344123))\n",
    "print(balance(1235122))\n",
    "print(balance(12344122))\n",
    "print(balance(-1))"
   ]
  }
 ],
 "metadata": {
  "colab": {
   "provenance": []
  },
  "kernelspec": {
   "display_name": "Python 3 (ipykernel)",
   "language": "python",
   "name": "python3"
  },
  "language_info": {
   "codemirror_mode": {
    "name": "ipython",
    "version": 3
   },
   "file_extension": ".py",
   "mimetype": "text/x-python",
   "name": "python",
   "nbconvert_exporter": "python",
   "pygments_lexer": "ipython3",
   "version": "3.10.1"
  }
 },
 "nbformat": 4,
 "nbformat_minor": 4
}
